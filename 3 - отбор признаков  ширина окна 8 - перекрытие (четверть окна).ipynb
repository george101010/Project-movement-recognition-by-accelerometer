{
 "cells": [
  {
   "cell_type": "code",
   "execution_count": null,
   "metadata": {
    "id": "7z55Y5FDqHff"
   },
   "outputs": [],
   "source": [
    "import numpy as np\n",
    "from matplotlib import pyplot as plt\n",
    " \n",
    "import pandas as pd"
   ]
  },
  {
   "cell_type": "code",
   "execution_count": null,
   "metadata": {
    "id": "8IGy8qRtqkAt"
   },
   "outputs": [],
   "source": [
    "from sklearn.linear_model import LogisticRegression\n",
    "from sklearn.metrics import f1_score, confusion_matrix,ConfusionMatrixDisplay\n",
    "from sklearn.preprocessing import LabelEncoder"
   ]
  },
  {
   "cell_type": "code",
   "execution_count": null,
   "metadata": {
    "id": "bpE19gvvwl7f"
   },
   "outputs": [],
   "source": [
    "from sklearn.model_selection import train_test_split, StratifiedKFold\n",
    "from sklearn.preprocessing import StandardScaler ,MinMaxScaler"
   ]
  },
  {
   "cell_type": "code",
   "execution_count": null,
   "metadata": {
    "id": "x4-3jJPLOOCj"
   },
   "outputs": [],
   "source": [
    "from sklearn.model_selection import cross_val_score\n",
    "from sklearn.model_selection import GridSearchCV"
   ]
  },
  {
   "cell_type": "code",
   "execution_count": null,
   "metadata": {
    "colab": {
     "base_uri": "https://localhost:8080/"
    },
    "executionInfo": {
     "elapsed": 22332,
     "status": "ok",
     "timestamp": 1618821612454,
     "user": {
      "displayName": "Георгий Авхименко",
      "photoUrl": "https://lh3.googleusercontent.com/a-/AOh14Ggb8G0V01sdYAorRZZ8WdgvkNc4C9QI8Yyhue4D=s64",
      "userId": "05068323543740234483"
     },
     "user_tz": -180
    },
    "id": "jfYcTPsmqfqQ",
    "outputId": "d3451899-dd2b-474d-a25e-9ffb8d4fa441"
   },
   "outputs": [
    {
     "name": "stdout",
     "output_type": "stream",
     "text": [
      "Mounted at /content/drive\n"
     ]
    }
   ],
   "source": [
    "from google.colab import drive\n",
    "drive.mount('/content/drive')"
   ]
  },
  {
   "cell_type": "markdown",
   "metadata": {
    "id": "8wD6qk4xQg8J"
   },
   "source": [
    "Загрузка таблицы"
   ]
  },
  {
   "cell_type": "code",
   "execution_count": null,
   "metadata": {
    "id": "KKb6Tdokqfwm"
   },
   "outputs": [],
   "source": [
    "data = pd.read_csv('/content/drive/MyDrive/данные с акселерометра/dataset_w8_o25.csv', delimiter = ';')"
   ]
  },
  {
   "cell_type": "code",
   "execution_count": null,
   "metadata": {
    "colab": {
     "base_uri": "https://localhost:8080/",
     "height": 363
    },
    "executionInfo": {
     "elapsed": 3126,
     "status": "ok",
     "timestamp": 1617893703236,
     "user": {
      "displayName": "Георгий Авхименко",
      "photoUrl": "https://lh3.googleusercontent.com/a-/AOh14Ggb8G0V01sdYAorRZZ8WdgvkNc4C9QI8Yyhue4D=s64",
      "userId": "05068323543740234483"
     },
     "user_tz": -180
    },
    "id": "PF-5Bww7qgc9",
    "outputId": "cc7fe5d9-df77-487e-b272-59f5a7834047"
   },
   "outputs": [
    {
     "data": {
      "text/html": [
       "<div>\n",
       "<style scoped>\n",
       "    .dataframe tbody tr th:only-of-type {\n",
       "        vertical-align: middle;\n",
       "    }\n",
       "\n",
       "    .dataframe tbody tr th {\n",
       "        vertical-align: top;\n",
       "    }\n",
       "\n",
       "    .dataframe thead th {\n",
       "        text-align: right;\n",
       "    }\n",
       "</style>\n",
       "<table border=\"1\" class=\"dataframe\">\n",
       "  <thead>\n",
       "    <tr style=\"text-align: right;\">\n",
       "      <th></th>\n",
       "      <th>x1_mean</th>\n",
       "      <th>y1_mean</th>\n",
       "      <th>z1_mean</th>\n",
       "      <th>x2_mean</th>\n",
       "      <th>y2_mean</th>\n",
       "      <th>z2_mean</th>\n",
       "      <th>x3_mean</th>\n",
       "      <th>y3_mean</th>\n",
       "      <th>z3_mean</th>\n",
       "      <th>x4_mean</th>\n",
       "      <th>y4_mean</th>\n",
       "      <th>z4_mean</th>\n",
       "      <th>x1_Minmax</th>\n",
       "      <th>y1_Minmax</th>\n",
       "      <th>z1_Minmax</th>\n",
       "      <th>x2_Minmax</th>\n",
       "      <th>y2_Minmax</th>\n",
       "      <th>z2_Minmax</th>\n",
       "      <th>x3_Minmax</th>\n",
       "      <th>y3_Minmax</th>\n",
       "      <th>z3_Minmax</th>\n",
       "      <th>x4_Minmax</th>\n",
       "      <th>y4_Minmax</th>\n",
       "      <th>z4_Minmax</th>\n",
       "      <th>x1_krt</th>\n",
       "      <th>y1_krt</th>\n",
       "      <th>z1_krt</th>\n",
       "      <th>x2_krt</th>\n",
       "      <th>y2_krt</th>\n",
       "      <th>z2_krt</th>\n",
       "      <th>x3_krt</th>\n",
       "      <th>y3_krt</th>\n",
       "      <th>z3_krt</th>\n",
       "      <th>x4_krt</th>\n",
       "      <th>y4_krt</th>\n",
       "      <th>z4_krt</th>\n",
       "      <th>x1_Std</th>\n",
       "      <th>y1_Std</th>\n",
       "      <th>z1_Std</th>\n",
       "      <th>x2_Std</th>\n",
       "      <th>y2_Std</th>\n",
       "      <th>z2_Std</th>\n",
       "      <th>x3_Std</th>\n",
       "      <th>y3_Std</th>\n",
       "      <th>z3_Std</th>\n",
       "      <th>x4_Std</th>\n",
       "      <th>y4_Std</th>\n",
       "      <th>z4_Std</th>\n",
       "      <th>a1_mean</th>\n",
       "      <th>a2_mean</th>\n",
       "      <th>a3_mean</th>\n",
       "      <th>a4_mean</th>\n",
       "      <th>a1_Minmax</th>\n",
       "      <th>a2_Minmax</th>\n",
       "      <th>a3_Minmax</th>\n",
       "      <th>a4_Minmax</th>\n",
       "      <th>a1_krt</th>\n",
       "      <th>a2_krt</th>\n",
       "      <th>a3_krt</th>\n",
       "      <th>a4_krt</th>\n",
       "      <th>a1_Std</th>\n",
       "      <th>a2_Std</th>\n",
       "      <th>a3_Std</th>\n",
       "      <th>a4_Std</th>\n",
       "      <th>class</th>\n",
       "    </tr>\n",
       "  </thead>\n",
       "  <tbody>\n",
       "    <tr>\n",
       "      <th>0</th>\n",
       "      <td>-0.700</td>\n",
       "      <td>97.312</td>\n",
       "      <td>-62.262</td>\n",
       "      <td>-12.962</td>\n",
       "      <td>20.2</td>\n",
       "      <td>-15.1</td>\n",
       "      <td>-12.600</td>\n",
       "      <td>104.3</td>\n",
       "      <td>-89.4</td>\n",
       "      <td>-159.025</td>\n",
       "      <td>-102.625</td>\n",
       "      <td>-142.100</td>\n",
       "      <td>0.0</td>\n",
       "      <td>0.1</td>\n",
       "      <td>0.1</td>\n",
       "      <td>0.1</td>\n",
       "      <td>0.0</td>\n",
       "      <td>0.0</td>\n",
       "      <td>0.0</td>\n",
       "      <td>0.0</td>\n",
       "      <td>0.0</td>\n",
       "      <td>0.4</td>\n",
       "      <td>0.1</td>\n",
       "      <td>0.2</td>\n",
       "      <td>-3.000</td>\n",
       "      <td>3.143</td>\n",
       "      <td>-1.733</td>\n",
       "      <td>-1.733</td>\n",
       "      <td>-3.0</td>\n",
       "      <td>-3.0</td>\n",
       "      <td>-3.000</td>\n",
       "      <td>-3.0</td>\n",
       "      <td>-3.0</td>\n",
       "      <td>-1.338</td>\n",
       "      <td>-0.667</td>\n",
       "      <td>1.000</td>\n",
       "      <td>0.000</td>\n",
       "      <td>0.033</td>\n",
       "      <td>0.048</td>\n",
       "      <td>0.048</td>\n",
       "      <td>0.0</td>\n",
       "      <td>0.0</td>\n",
       "      <td>0.000</td>\n",
       "      <td>0.0</td>\n",
       "      <td>0.0</td>\n",
       "      <td>0.139</td>\n",
       "      <td>0.043</td>\n",
       "      <td>0.050</td>\n",
       "      <td>115.528</td>\n",
       "      <td>28.356</td>\n",
       "      <td>137.948</td>\n",
       "      <td>236.671</td>\n",
       "      <td>0.138</td>\n",
       "      <td>0.046</td>\n",
       "      <td>0.000</td>\n",
       "      <td>0.202</td>\n",
       "      <td>0.150</td>\n",
       "      <td>-1.733</td>\n",
       "      <td>-3.000</td>\n",
       "      <td>-1.189</td>\n",
       "      <td>0.043</td>\n",
       "      <td>0.022</td>\n",
       "      <td>0.000</td>\n",
       "      <td>0.064</td>\n",
       "      <td>sitting</td>\n",
       "    </tr>\n",
       "    <tr>\n",
       "      <th>1</th>\n",
       "      <td>-0.725</td>\n",
       "      <td>97.338</td>\n",
       "      <td>-62.300</td>\n",
       "      <td>-12.938</td>\n",
       "      <td>20.2</td>\n",
       "      <td>-15.1</td>\n",
       "      <td>-12.612</td>\n",
       "      <td>104.3</td>\n",
       "      <td>-89.4</td>\n",
       "      <td>-159.150</td>\n",
       "      <td>-102.600</td>\n",
       "      <td>-142.062</td>\n",
       "      <td>0.1</td>\n",
       "      <td>0.1</td>\n",
       "      <td>0.2</td>\n",
       "      <td>0.1</td>\n",
       "      <td>0.0</td>\n",
       "      <td>0.0</td>\n",
       "      <td>0.1</td>\n",
       "      <td>0.0</td>\n",
       "      <td>0.0</td>\n",
       "      <td>0.5</td>\n",
       "      <td>0.0</td>\n",
       "      <td>0.1</td>\n",
       "      <td>-0.667</td>\n",
       "      <td>-1.733</td>\n",
       "      <td>1.000</td>\n",
       "      <td>-1.733</td>\n",
       "      <td>-3.0</td>\n",
       "      <td>-3.0</td>\n",
       "      <td>3.143</td>\n",
       "      <td>-3.0</td>\n",
       "      <td>-3.0</td>\n",
       "      <td>-0.815</td>\n",
       "      <td>-3.000</td>\n",
       "      <td>-1.733</td>\n",
       "      <td>0.043</td>\n",
       "      <td>0.048</td>\n",
       "      <td>0.050</td>\n",
       "      <td>0.048</td>\n",
       "      <td>0.0</td>\n",
       "      <td>0.0</td>\n",
       "      <td>0.033</td>\n",
       "      <td>0.0</td>\n",
       "      <td>0.0</td>\n",
       "      <td>0.150</td>\n",
       "      <td>0.000</td>\n",
       "      <td>0.048</td>\n",
       "      <td>115.570</td>\n",
       "      <td>28.345</td>\n",
       "      <td>137.949</td>\n",
       "      <td>236.722</td>\n",
       "      <td>0.193</td>\n",
       "      <td>0.046</td>\n",
       "      <td>0.009</td>\n",
       "      <td>0.276</td>\n",
       "      <td>-0.970</td>\n",
       "      <td>-1.733</td>\n",
       "      <td>3.143</td>\n",
       "      <td>-0.605</td>\n",
       "      <td>0.060</td>\n",
       "      <td>0.022</td>\n",
       "      <td>0.003</td>\n",
       "      <td>0.080</td>\n",
       "      <td>sitting</td>\n",
       "    </tr>\n",
       "    <tr>\n",
       "      <th>2</th>\n",
       "      <td>-0.750</td>\n",
       "      <td>97.362</td>\n",
       "      <td>-62.338</td>\n",
       "      <td>-12.913</td>\n",
       "      <td>20.2</td>\n",
       "      <td>-15.1</td>\n",
       "      <td>-12.638</td>\n",
       "      <td>104.3</td>\n",
       "      <td>-89.4</td>\n",
       "      <td>-159.275</td>\n",
       "      <td>-102.575</td>\n",
       "      <td>-142.038</td>\n",
       "      <td>0.1</td>\n",
       "      <td>0.1</td>\n",
       "      <td>0.1</td>\n",
       "      <td>0.1</td>\n",
       "      <td>0.0</td>\n",
       "      <td>0.0</td>\n",
       "      <td>0.1</td>\n",
       "      <td>0.0</td>\n",
       "      <td>0.0</td>\n",
       "      <td>0.4</td>\n",
       "      <td>0.1</td>\n",
       "      <td>0.1</td>\n",
       "      <td>-2.000</td>\n",
       "      <td>-1.733</td>\n",
       "      <td>-1.733</td>\n",
       "      <td>3.143</td>\n",
       "      <td>-3.0</td>\n",
       "      <td>-3.0</td>\n",
       "      <td>-1.733</td>\n",
       "      <td>-3.0</td>\n",
       "      <td>-3.0</td>\n",
       "      <td>-1.338</td>\n",
       "      <td>-0.667</td>\n",
       "      <td>-1.733</td>\n",
       "      <td>0.050</td>\n",
       "      <td>0.048</td>\n",
       "      <td>0.048</td>\n",
       "      <td>0.033</td>\n",
       "      <td>0.0</td>\n",
       "      <td>0.0</td>\n",
       "      <td>0.048</td>\n",
       "      <td>0.0</td>\n",
       "      <td>0.0</td>\n",
       "      <td>0.139</td>\n",
       "      <td>0.043</td>\n",
       "      <td>0.048</td>\n",
       "      <td>115.611</td>\n",
       "      <td>28.333</td>\n",
       "      <td>137.951</td>\n",
       "      <td>236.780</td>\n",
       "      <td>0.139</td>\n",
       "      <td>0.046</td>\n",
       "      <td>0.009</td>\n",
       "      <td>0.166</td>\n",
       "      <td>-1.674</td>\n",
       "      <td>3.143</td>\n",
       "      <td>-1.733</td>\n",
       "      <td>-1.316</td>\n",
       "      <td>0.060</td>\n",
       "      <td>0.015</td>\n",
       "      <td>0.004</td>\n",
       "      <td>0.060</td>\n",
       "      <td>sitting</td>\n",
       "    </tr>\n",
       "    <tr>\n",
       "      <th>3</th>\n",
       "      <td>-0.775</td>\n",
       "      <td>97.388</td>\n",
       "      <td>-62.362</td>\n",
       "      <td>-12.900</td>\n",
       "      <td>20.2</td>\n",
       "      <td>-15.1</td>\n",
       "      <td>-12.662</td>\n",
       "      <td>104.3</td>\n",
       "      <td>-89.4</td>\n",
       "      <td>-159.412</td>\n",
       "      <td>-102.550</td>\n",
       "      <td>-142.000</td>\n",
       "      <td>0.1</td>\n",
       "      <td>0.1</td>\n",
       "      <td>0.1</td>\n",
       "      <td>0.0</td>\n",
       "      <td>0.0</td>\n",
       "      <td>0.0</td>\n",
       "      <td>0.1</td>\n",
       "      <td>0.0</td>\n",
       "      <td>0.0</td>\n",
       "      <td>0.5</td>\n",
       "      <td>0.1</td>\n",
       "      <td>0.2</td>\n",
       "      <td>-0.667</td>\n",
       "      <td>3.143</td>\n",
       "      <td>-1.733</td>\n",
       "      <td>-3.000</td>\n",
       "      <td>-3.0</td>\n",
       "      <td>-3.0</td>\n",
       "      <td>-1.733</td>\n",
       "      <td>-3.0</td>\n",
       "      <td>-3.0</td>\n",
       "      <td>-1.110</td>\n",
       "      <td>-2.000</td>\n",
       "      <td>1.000</td>\n",
       "      <td>0.043</td>\n",
       "      <td>0.033</td>\n",
       "      <td>0.048</td>\n",
       "      <td>0.000</td>\n",
       "      <td>0.0</td>\n",
       "      <td>0.0</td>\n",
       "      <td>0.048</td>\n",
       "      <td>0.0</td>\n",
       "      <td>0.0</td>\n",
       "      <td>0.169</td>\n",
       "      <td>0.050</td>\n",
       "      <td>0.050</td>\n",
       "      <td>115.646</td>\n",
       "      <td>28.328</td>\n",
       "      <td>137.954</td>\n",
       "      <td>236.839</td>\n",
       "      <td>0.139</td>\n",
       "      <td>0.000</td>\n",
       "      <td>0.009</td>\n",
       "      <td>0.233</td>\n",
       "      <td>0.672</td>\n",
       "      <td>-3.000</td>\n",
       "      <td>-1.733</td>\n",
       "      <td>-1.148</td>\n",
       "      <td>0.047</td>\n",
       "      <td>0.000</td>\n",
       "      <td>0.004</td>\n",
       "      <td>0.077</td>\n",
       "      <td>sitting</td>\n",
       "    </tr>\n",
       "    <tr>\n",
       "      <th>4</th>\n",
       "      <td>-0.800</td>\n",
       "      <td>97.400</td>\n",
       "      <td>-62.412</td>\n",
       "      <td>-12.900</td>\n",
       "      <td>20.2</td>\n",
       "      <td>-15.1</td>\n",
       "      <td>-12.688</td>\n",
       "      <td>104.3</td>\n",
       "      <td>-89.4</td>\n",
       "      <td>-159.562</td>\n",
       "      <td>-102.525</td>\n",
       "      <td>-141.962</td>\n",
       "      <td>0.0</td>\n",
       "      <td>0.0</td>\n",
       "      <td>0.2</td>\n",
       "      <td>0.0</td>\n",
       "      <td>0.0</td>\n",
       "      <td>0.0</td>\n",
       "      <td>0.1</td>\n",
       "      <td>0.0</td>\n",
       "      <td>0.0</td>\n",
       "      <td>0.5</td>\n",
       "      <td>0.1</td>\n",
       "      <td>0.1</td>\n",
       "      <td>-3.000</td>\n",
       "      <td>-3.000</td>\n",
       "      <td>-0.314</td>\n",
       "      <td>-3.000</td>\n",
       "      <td>-3.0</td>\n",
       "      <td>-3.0</td>\n",
       "      <td>3.143</td>\n",
       "      <td>-3.0</td>\n",
       "      <td>-3.0</td>\n",
       "      <td>-1.461</td>\n",
       "      <td>-0.667</td>\n",
       "      <td>-1.733</td>\n",
       "      <td>0.000</td>\n",
       "      <td>0.000</td>\n",
       "      <td>0.060</td>\n",
       "      <td>0.000</td>\n",
       "      <td>0.0</td>\n",
       "      <td>0.0</td>\n",
       "      <td>0.033</td>\n",
       "      <td>0.0</td>\n",
       "      <td>0.0</td>\n",
       "      <td>0.180</td>\n",
       "      <td>0.043</td>\n",
       "      <td>0.048</td>\n",
       "      <td>115.684</td>\n",
       "      <td>28.328</td>\n",
       "      <td>137.956</td>\n",
       "      <td>236.907</td>\n",
       "      <td>0.108</td>\n",
       "      <td>0.000</td>\n",
       "      <td>0.009</td>\n",
       "      <td>0.234</td>\n",
       "      <td>-0.315</td>\n",
       "      <td>-3.000</td>\n",
       "      <td>3.143</td>\n",
       "      <td>-1.405</td>\n",
       "      <td>0.032</td>\n",
       "      <td>0.000</td>\n",
       "      <td>0.003</td>\n",
       "      <td>0.084</td>\n",
       "      <td>sitting</td>\n",
       "    </tr>\n",
       "    <tr>\n",
       "      <th>5</th>\n",
       "      <td>-0.800</td>\n",
       "      <td>97.425</td>\n",
       "      <td>-62.450</td>\n",
       "      <td>-12.900</td>\n",
       "      <td>20.2</td>\n",
       "      <td>-15.1</td>\n",
       "      <td>-12.700</td>\n",
       "      <td>104.3</td>\n",
       "      <td>-89.4</td>\n",
       "      <td>-159.712</td>\n",
       "      <td>-102.475</td>\n",
       "      <td>-141.938</td>\n",
       "      <td>0.0</td>\n",
       "      <td>0.1</td>\n",
       "      <td>0.1</td>\n",
       "      <td>0.0</td>\n",
       "      <td>0.0</td>\n",
       "      <td>0.0</td>\n",
       "      <td>0.0</td>\n",
       "      <td>0.0</td>\n",
       "      <td>0.0</td>\n",
       "      <td>0.6</td>\n",
       "      <td>0.1</td>\n",
       "      <td>0.1</td>\n",
       "      <td>-3.000</td>\n",
       "      <td>-0.667</td>\n",
       "      <td>-2.000</td>\n",
       "      <td>-3.000</td>\n",
       "      <td>-3.0</td>\n",
       "      <td>-3.0</td>\n",
       "      <td>-3.000</td>\n",
       "      <td>-3.0</td>\n",
       "      <td>-3.0</td>\n",
       "      <td>-1.089</td>\n",
       "      <td>-0.667</td>\n",
       "      <td>-1.733</td>\n",
       "      <td>0.000</td>\n",
       "      <td>0.043</td>\n",
       "      <td>0.050</td>\n",
       "      <td>0.000</td>\n",
       "      <td>0.0</td>\n",
       "      <td>0.0</td>\n",
       "      <td>0.000</td>\n",
       "      <td>0.0</td>\n",
       "      <td>0.0</td>\n",
       "      <td>0.190</td>\n",
       "      <td>0.043</td>\n",
       "      <td>0.048</td>\n",
       "      <td>115.725</td>\n",
       "      <td>28.328</td>\n",
       "      <td>137.957</td>\n",
       "      <td>236.972</td>\n",
       "      <td>0.138</td>\n",
       "      <td>0.000</td>\n",
       "      <td>0.000</td>\n",
       "      <td>0.301</td>\n",
       "      <td>-1.121</td>\n",
       "      <td>-3.000</td>\n",
       "      <td>-3.000</td>\n",
       "      <td>-0.785</td>\n",
       "      <td>0.057</td>\n",
       "      <td>0.000</td>\n",
       "      <td>0.000</td>\n",
       "      <td>0.090</td>\n",
       "      <td>sitting</td>\n",
       "    </tr>\n",
       "    <tr>\n",
       "      <th>6</th>\n",
       "      <td>-0.800</td>\n",
       "      <td>97.450</td>\n",
       "      <td>-62.500</td>\n",
       "      <td>-12.888</td>\n",
       "      <td>20.2</td>\n",
       "      <td>-15.1</td>\n",
       "      <td>-12.700</td>\n",
       "      <td>104.3</td>\n",
       "      <td>-89.4</td>\n",
       "      <td>-159.912</td>\n",
       "      <td>-102.450</td>\n",
       "      <td>-141.888</td>\n",
       "      <td>0.0</td>\n",
       "      <td>0.1</td>\n",
       "      <td>0.2</td>\n",
       "      <td>0.1</td>\n",
       "      <td>0.0</td>\n",
       "      <td>0.0</td>\n",
       "      <td>0.0</td>\n",
       "      <td>0.0</td>\n",
       "      <td>0.0</td>\n",
       "      <td>0.7</td>\n",
       "      <td>0.1</td>\n",
       "      <td>0.2</td>\n",
       "      <td>-3.000</td>\n",
       "      <td>-2.000</td>\n",
       "      <td>-1.000</td>\n",
       "      <td>3.143</td>\n",
       "      <td>-3.0</td>\n",
       "      <td>-3.0</td>\n",
       "      <td>-3.000</td>\n",
       "      <td>-3.0</td>\n",
       "      <td>-3.0</td>\n",
       "      <td>-1.021</td>\n",
       "      <td>-2.000</td>\n",
       "      <td>-0.314</td>\n",
       "      <td>0.000</td>\n",
       "      <td>0.050</td>\n",
       "      <td>0.071</td>\n",
       "      <td>0.033</td>\n",
       "      <td>0.0</td>\n",
       "      <td>0.0</td>\n",
       "      <td>0.000</td>\n",
       "      <td>0.0</td>\n",
       "      <td>0.0</td>\n",
       "      <td>0.226</td>\n",
       "      <td>0.050</td>\n",
       "      <td>0.060</td>\n",
       "      <td>115.773</td>\n",
       "      <td>28.322</td>\n",
       "      <td>137.957</td>\n",
       "      <td>237.066</td>\n",
       "      <td>0.192</td>\n",
       "      <td>0.045</td>\n",
       "      <td>0.000</td>\n",
       "      <td>0.309</td>\n",
       "      <td>-1.540</td>\n",
       "      <td>3.143</td>\n",
       "      <td>-3.000</td>\n",
       "      <td>-0.922</td>\n",
       "      <td>0.074</td>\n",
       "      <td>0.015</td>\n",
       "      <td>0.000</td>\n",
       "      <td>0.103</td>\n",
       "      <td>sitting</td>\n",
       "    </tr>\n",
       "    <tr>\n",
       "      <th>7</th>\n",
       "      <td>-0.812</td>\n",
       "      <td>97.475</td>\n",
       "      <td>-62.562</td>\n",
       "      <td>-12.862</td>\n",
       "      <td>20.2</td>\n",
       "      <td>-15.1</td>\n",
       "      <td>-12.700</td>\n",
       "      <td>104.3</td>\n",
       "      <td>-89.4</td>\n",
       "      <td>-160.125</td>\n",
       "      <td>-102.412</td>\n",
       "      <td>-141.838</td>\n",
       "      <td>0.1</td>\n",
       "      <td>0.1</td>\n",
       "      <td>0.2</td>\n",
       "      <td>0.1</td>\n",
       "      <td>0.0</td>\n",
       "      <td>0.0</td>\n",
       "      <td>0.0</td>\n",
       "      <td>0.0</td>\n",
       "      <td>0.0</td>\n",
       "      <td>0.8</td>\n",
       "      <td>0.2</td>\n",
       "      <td>0.2</td>\n",
       "      <td>3.143</td>\n",
       "      <td>-0.667</td>\n",
       "      <td>-0.739</td>\n",
       "      <td>-1.733</td>\n",
       "      <td>-3.0</td>\n",
       "      <td>-3.0</td>\n",
       "      <td>-3.000</td>\n",
       "      <td>-3.0</td>\n",
       "      <td>-3.0</td>\n",
       "      <td>-1.250</td>\n",
       "      <td>-0.314</td>\n",
       "      <td>-0.739</td>\n",
       "      <td>0.033</td>\n",
       "      <td>0.043</td>\n",
       "      <td>0.070</td>\n",
       "      <td>0.048</td>\n",
       "      <td>0.0</td>\n",
       "      <td>0.0</td>\n",
       "      <td>0.000</td>\n",
       "      <td>0.0</td>\n",
       "      <td>0.0</td>\n",
       "      <td>0.277</td>\n",
       "      <td>0.060</td>\n",
       "      <td>0.070</td>\n",
       "      <td>115.828</td>\n",
       "      <td>28.311</td>\n",
       "      <td>137.957</td>\n",
       "      <td>237.163</td>\n",
       "      <td>0.193</td>\n",
       "      <td>0.045</td>\n",
       "      <td>0.000</td>\n",
       "      <td>0.334</td>\n",
       "      <td>-1.065</td>\n",
       "      <td>-1.733</td>\n",
       "      <td>-3.000</td>\n",
       "      <td>-1.510</td>\n",
       "      <td>0.065</td>\n",
       "      <td>0.022</td>\n",
       "      <td>0.000</td>\n",
       "      <td>0.127</td>\n",
       "      <td>sitting</td>\n",
       "    </tr>\n",
       "    <tr>\n",
       "      <th>8</th>\n",
       "      <td>-0.838</td>\n",
       "      <td>97.525</td>\n",
       "      <td>-62.625</td>\n",
       "      <td>-12.838</td>\n",
       "      <td>20.2</td>\n",
       "      <td>-15.1</td>\n",
       "      <td>-12.712</td>\n",
       "      <td>104.3</td>\n",
       "      <td>-89.4</td>\n",
       "      <td>-160.375</td>\n",
       "      <td>-102.362</td>\n",
       "      <td>-141.775</td>\n",
       "      <td>0.1</td>\n",
       "      <td>0.1</td>\n",
       "      <td>0.3</td>\n",
       "      <td>0.1</td>\n",
       "      <td>0.0</td>\n",
       "      <td>0.0</td>\n",
       "      <td>0.1</td>\n",
       "      <td>0.0</td>\n",
       "      <td>0.0</td>\n",
       "      <td>1.0</td>\n",
       "      <td>0.1</td>\n",
       "      <td>0.3</td>\n",
       "      <td>-1.733</td>\n",
       "      <td>-0.667</td>\n",
       "      <td>-0.880</td>\n",
       "      <td>-1.733</td>\n",
       "      <td>-3.0</td>\n",
       "      <td>-3.0</td>\n",
       "      <td>3.143</td>\n",
       "      <td>-3.0</td>\n",
       "      <td>-3.0</td>\n",
       "      <td>-1.149</td>\n",
       "      <td>-1.733</td>\n",
       "      <td>-0.880</td>\n",
       "      <td>0.048</td>\n",
       "      <td>0.043</td>\n",
       "      <td>0.097</td>\n",
       "      <td>0.048</td>\n",
       "      <td>0.0</td>\n",
       "      <td>0.0</td>\n",
       "      <td>0.033</td>\n",
       "      <td>0.0</td>\n",
       "      <td>0.0</td>\n",
       "      <td>0.323</td>\n",
       "      <td>0.048</td>\n",
       "      <td>0.097</td>\n",
       "      <td>115.904</td>\n",
       "      <td>28.299</td>\n",
       "      <td>137.958</td>\n",
       "      <td>237.273</td>\n",
       "      <td>0.247</td>\n",
       "      <td>0.045</td>\n",
       "      <td>0.009</td>\n",
       "      <td>0.454</td>\n",
       "      <td>-0.749</td>\n",
       "      <td>-1.733</td>\n",
       "      <td>3.143</td>\n",
       "      <td>-1.133</td>\n",
       "      <td>0.083</td>\n",
       "      <td>0.022</td>\n",
       "      <td>0.003</td>\n",
       "      <td>0.145</td>\n",
       "      <td>sitting</td>\n",
       "    </tr>\n",
       "    <tr>\n",
       "      <th>9</th>\n",
       "      <td>-0.862</td>\n",
       "      <td>97.562</td>\n",
       "      <td>-62.712</td>\n",
       "      <td>-12.800</td>\n",
       "      <td>20.2</td>\n",
       "      <td>-15.1</td>\n",
       "      <td>-12.738</td>\n",
       "      <td>104.3</td>\n",
       "      <td>-89.4</td>\n",
       "      <td>-160.700</td>\n",
       "      <td>-102.312</td>\n",
       "      <td>-141.688</td>\n",
       "      <td>0.1</td>\n",
       "      <td>0.2</td>\n",
       "      <td>0.3</td>\n",
       "      <td>0.2</td>\n",
       "      <td>0.0</td>\n",
       "      <td>0.0</td>\n",
       "      <td>0.1</td>\n",
       "      <td>0.0</td>\n",
       "      <td>0.0</td>\n",
       "      <td>1.2</td>\n",
       "      <td>0.2</td>\n",
       "      <td>0.3</td>\n",
       "      <td>-1.733</td>\n",
       "      <td>-0.739</td>\n",
       "      <td>-1.137</td>\n",
       "      <td>1.000</td>\n",
       "      <td>-3.0</td>\n",
       "      <td>-3.0</td>\n",
       "      <td>-1.733</td>\n",
       "      <td>-3.0</td>\n",
       "      <td>-3.0</td>\n",
       "      <td>-0.980</td>\n",
       "      <td>-1.329</td>\n",
       "      <td>-1.137</td>\n",
       "      <td>0.048</td>\n",
       "      <td>0.070</td>\n",
       "      <td>0.105</td>\n",
       "      <td>0.050</td>\n",
       "      <td>0.0</td>\n",
       "      <td>0.0</td>\n",
       "      <td>0.048</td>\n",
       "      <td>0.0</td>\n",
       "      <td>0.0</td>\n",
       "      <td>0.387</td>\n",
       "      <td>0.078</td>\n",
       "      <td>0.105</td>\n",
       "      <td>115.983</td>\n",
       "      <td>28.282</td>\n",
       "      <td>137.960</td>\n",
       "      <td>237.419</td>\n",
       "      <td>0.331</td>\n",
       "      <td>0.091</td>\n",
       "      <td>0.009</td>\n",
       "      <td>0.547</td>\n",
       "      <td>-0.859</td>\n",
       "      <td>1.000</td>\n",
       "      <td>-1.733</td>\n",
       "      <td>-0.808</td>\n",
       "      <td>0.113</td>\n",
       "      <td>0.023</td>\n",
       "      <td>0.004</td>\n",
       "      <td>0.169</td>\n",
       "      <td>sitting</td>\n",
       "    </tr>\n",
       "  </tbody>\n",
       "</table>\n",
       "</div>"
      ],
      "text/plain": [
       "   x1_mean  y1_mean  z1_mean  x2_mean  ...  a2_Std  a3_Std  a4_Std    class\n",
       "0   -0.700   97.312  -62.262  -12.962  ...   0.022   0.000   0.064  sitting\n",
       "1   -0.725   97.338  -62.300  -12.938  ...   0.022   0.003   0.080  sitting\n",
       "2   -0.750   97.362  -62.338  -12.913  ...   0.015   0.004   0.060  sitting\n",
       "3   -0.775   97.388  -62.362  -12.900  ...   0.000   0.004   0.077  sitting\n",
       "4   -0.800   97.400  -62.412  -12.900  ...   0.000   0.003   0.084  sitting\n",
       "5   -0.800   97.425  -62.450  -12.900  ...   0.000   0.000   0.090  sitting\n",
       "6   -0.800   97.450  -62.500  -12.888  ...   0.015   0.000   0.103  sitting\n",
       "7   -0.812   97.475  -62.562  -12.862  ...   0.022   0.000   0.127  sitting\n",
       "8   -0.838   97.525  -62.625  -12.838  ...   0.022   0.003   0.145  sitting\n",
       "9   -0.862   97.562  -62.712  -12.800  ...   0.023   0.004   0.169  sitting\n",
       "\n",
       "[10 rows x 65 columns]"
      ]
     },
     "execution_count": 39,
     "metadata": {
      "tags": []
     },
     "output_type": "execute_result"
    }
   ],
   "source": [
    "data.head(10)"
   ]
  },
  {
   "cell_type": "markdown",
   "metadata": {
    "id": "pCi8436GQ5i2"
   },
   "source": [
    "Кодирование меток. Деление на тренировочную валидационную и тестовую выборки. Стандартизация всех наборов."
   ]
  },
  {
   "cell_type": "markdown",
   "metadata": {},
   "source": [
    "Деление выборки:\n",
    "\n",
    "* Тренировочная - 60%\n",
    "* Валидационная - 20%\n",
    "* Тестовая - 20% "
   ]
  },
  {
   "cell_type": "markdown",
   "metadata": {},
   "source": [
    "Из-за дисбаланса классов выбрана метрика F-мера с микро-усреднением. Она позволяет учесть ошибки на малочисленных классах."
   ]
  },
  {
   "cell_type": "code",
   "execution_count": null,
   "metadata": {
    "id": "c0T-4wFcu24I"
   },
   "outputs": [],
   "source": [
    "# подготовка меток\n",
    "le =  LabelEncoder()\n",
    "le.fit(data['class'])\n",
    "Y = le.transform(data['class'])"
   ]
  },
  {
   "cell_type": "code",
   "execution_count": null,
   "metadata": {
    "id": "Ih2t3ZaZvihK"
   },
   "outputs": [],
   "source": [
    "# подготовка матрицы X и деление на 3 выборки\n",
    "X = np.array(data[ data.columns[:-1] ])\n",
    "X_train, X_val, Y_train, Y_val = train_test_split(X, Y, test_size=0.4, random_state=42 ,stratify = Y )\n",
    "X_val, X_test, Y_val, Y_test = train_test_split(X_val,  Y_val, test_size=0.5, random_state=42 ,stratify =  Y_val )"
   ]
  },
  {
   "cell_type": "code",
   "execution_count": null,
   "metadata": {
    "colab": {
     "base_uri": "https://localhost:8080/"
    },
    "executionInfo": {
     "elapsed": 923,
     "status": "ok",
     "timestamp": 1618824427453,
     "user": {
      "displayName": "Георгий Авхименко",
      "photoUrl": "https://lh3.googleusercontent.com/a-/AOh14Ggb8G0V01sdYAorRZZ8WdgvkNc4C9QI8Yyhue4D=s64",
      "userId": "05068323543740234483"
     },
     "user_tz": -180
    },
    "id": "t4Y_Hjkccy-I",
    "outputId": "a694b6db-085d-41b4-8ef5-34de20ce214e"
   },
   "outputs": [
    {
     "name": "stdout",
     "output_type": "stream",
     "text": [
      "train set  34330  samples\n",
      "validation set  11444  samples\n",
      "test set  11444  samples\n"
     ]
    }
   ],
   "source": [
    "# просмотр количества объектов в выборках\n",
    "print('train set ',X_train.shape[0],' samples')\n",
    "print('validation set ',X_val.shape[0],' samples')\n",
    "print('test set ',X_test.shape[0],' samples')"
   ]
  },
  {
   "cell_type": "code",
   "execution_count": null,
   "metadata": {
    "id": "D8crggwT4oK5"
   },
   "outputs": [],
   "source": [
    "# стандартизация столбцов в выборках\n",
    "scaler_std = StandardScaler().fit(X_train)\n",
    "X_train_std  = scaler_std.transform(X_train)\n",
    "X_val_std =  scaler_std.transform(X_val)\n",
    "X_test_std =  scaler_std.transform(X_test)"
   ]
  },
  {
   "cell_type": "markdown",
   "metadata": {},
   "source": [
    "Протетируем первую модель - логистическую регрессию."
   ]
  },
  {
   "cell_type": "markdown",
   "metadata": {
    "id": "wrrQ6cjRRF4e"
   },
   "source": [
    "Подбор параметров (С - коэффициент регуляризации ) softmax регрессии на кросс валидации."
   ]
  },
  {
   "cell_type": "code",
   "execution_count": null,
   "metadata": {
    "colab": {
     "base_uri": "https://localhost:8080/"
    },
    "executionInfo": {
     "elapsed": 377103,
     "status": "ok",
     "timestamp": 1618822086320,
     "user": {
      "displayName": "Георгий Авхименко",
      "photoUrl": "https://lh3.googleusercontent.com/a-/AOh14Ggb8G0V01sdYAorRZZ8WdgvkNc4C9QI8Yyhue4D=s64",
      "userId": "05068323543740234483"
     },
     "user_tz": -180
    },
    "id": "MEyTdcyEQGmD",
    "outputId": "dad32841-b807-4ee0-868f-6835184154ae"
   },
   "outputs": [
    {
     "name": "stdout",
     "output_type": "stream",
     "text": [
      "Fitting 5 folds for each of 19 candidates, totalling 95 fits\n"
     ]
    },
    {
     "name": "stderr",
     "output_type": "stream",
     "text": [
      "[Parallel(n_jobs=-1)]: Using backend LokyBackend with 2 concurrent workers.\n",
      "[Parallel(n_jobs=-1)]: Done  21 tasks      | elapsed:  1.2min\n",
      "[Parallel(n_jobs=-1)]: Done  95 out of  95 | elapsed:  6.1min finished\n",
      "[Parallel(n_jobs=1)]: Using backend SequentialBackend with 1 concurrent workers.\n",
      "[Parallel(n_jobs=1)]: Done   1 out of   1 | elapsed:   10.1s remaining:    0.0s\n",
      "[Parallel(n_jobs=1)]: Done   1 out of   1 | elapsed:   10.1s finished\n"
     ]
    },
    {
     "data": {
      "text/plain": [
       "GridSearchCV(cv=StratifiedKFold(n_splits=5, random_state=42, shuffle=True),\n",
       "             error_score=nan,\n",
       "             estimator=LogisticRegression(C=1.0, class_weight=None, dual=False,\n",
       "                                          fit_intercept=True,\n",
       "                                          intercept_scaling=1, l1_ratio=None,\n",
       "                                          max_iter=100,\n",
       "                                          multi_class='multinomial',\n",
       "                                          n_jobs=None, penalty='l2',\n",
       "                                          random_state=None, solver='newton-cg',\n",
       "                                          tol=0.0001, verbose=2,\n",
       "                                          warm_start=False),\n",
       "             iid='deprecated', n_jobs=-1,\n",
       "             param_grid={'C': [0.5, 1.0, 1.5, 2.0, 2.5, 3.0, 3.5, 4.0, 4.5, 5.0,\n",
       "                               5.5, 6.0, 6.5, 7.0, 7.5, 8.0, 8.5, 9.0, 9.5]},\n",
       "             pre_dispatch='2*n_jobs', refit=True, return_train_score=False,\n",
       "             scoring='f1_micro', verbose=4)"
      ]
     },
     "execution_count": 14,
     "metadata": {
      "tags": []
     },
     "output_type": "execute_result"
    }
   ],
   "source": [
    " \n",
    "c_vars = [0.5 *i for i in range(1,20)]\n",
    "gsC =GridSearchCV(estimator= LogisticRegression( penalty ='l2',multi_class='multinomial',solver='newton-cg',verbose=2),\n",
    "             param_grid= {'C':c_vars },\n",
    "             scoring ='f1_micro',\n",
    "             cv = StratifiedKFold(n_splits=5,  shuffle=True, random_state = 42 ) ,\n",
    "             verbose =4, n_jobs =-1)\n",
    "gsC.fit(X_train_std, Y_train)"
   ]
  },
  {
   "cell_type": "code",
   "execution_count": null,
   "metadata": {
    "colab": {
     "base_uri": "https://localhost:8080/"
    },
    "executionInfo": {
     "elapsed": 1591,
     "status": "ok",
     "timestamp": 1618824164455,
     "user": {
      "displayName": "Георгий Авхименко",
      "photoUrl": "https://lh3.googleusercontent.com/a-/AOh14Ggb8G0V01sdYAorRZZ8WdgvkNc4C9QI8Yyhue4D=s64",
      "userId": "05068323543740234483"
     },
     "user_tz": -180
    },
    "id": "hgs2HlTHQGsZ",
    "outputId": "5c5c4d5c-32ed-49d4-bada-d1ce43411dc4"
   },
   "outputs": [
    {
     "data": {
      "text/plain": [
       "{'C': 9.0}"
      ]
     },
     "execution_count": 16,
     "metadata": {
      "tags": []
     },
     "output_type": "execute_result"
    }
   ],
   "source": [
    "gsC.best_params_"
   ]
  },
  {
   "cell_type": "markdown",
   "metadata": {
    "id": "G08EzhPrc7wX"
   },
   "source": [
    " Обучим модель и посмотрим ркзльтаты её работы на вылидационной и тестовой выборках"
   ]
  },
  {
   "cell_type": "code",
   "execution_count": null,
   "metadata": {
    "colab": {
     "base_uri": "https://localhost:8080/"
    },
    "executionInfo": {
     "elapsed": 11031,
     "status": "ok",
     "timestamp": 1618824320127,
     "user": {
      "displayName": "Георгий Авхименко",
      "photoUrl": "https://lh3.googleusercontent.com/a-/AOh14Ggb8G0V01sdYAorRZZ8WdgvkNc4C9QI8Yyhue4D=s64",
      "userId": "05068323543740234483"
     },
     "user_tz": -180
    },
    "id": "MZxZJi8JdFS9",
    "outputId": "bafe5d8e-e3f7-41a7-c286-08541dcb6278"
   },
   "outputs": [
    {
     "name": "stderr",
     "output_type": "stream",
     "text": [
      "[Parallel(n_jobs=1)]: Using backend SequentialBackend with 1 concurrent workers.\n",
      "[Parallel(n_jobs=1)]: Done   1 out of   1 | elapsed:   10.4s remaining:    0.0s\n",
      "[Parallel(n_jobs=1)]: Done   1 out of   1 | elapsed:   10.4s finished\n"
     ]
    },
    {
     "data": {
      "text/plain": [
       "LogisticRegression(C=9.0, class_weight=None, dual=False, fit_intercept=True,\n",
       "                   intercept_scaling=1, l1_ratio=None, max_iter=100,\n",
       "                   multi_class='multinomial', n_jobs=None, penalty='l2',\n",
       "                   random_state=None, solver='newton-cg', tol=0.0001, verbose=2,\n",
       "                   warm_start=False)"
      ]
     },
     "execution_count": 18,
     "metadata": {
      "tags": []
     },
     "output_type": "execute_result"
    }
   ],
   "source": [
    "# model - softmax - std scale - l2\n",
    "model_softmax_std = LogisticRegression(penalty = 'l2' ,C = gsC.best_params_['C'] , multi_class='multinomial',solver='newton-cg',verbose=2)\n",
    "model_softmax_std.fit(X_train_std, Y_train)"
   ]
  },
  {
   "cell_type": "markdown",
   "metadata": {},
   "source": [
    "Прогноз модели и матрица ошибок на валидационной выборке."
   ]
  },
  {
   "cell_type": "code",
   "execution_count": null,
   "metadata": {
    "id": "w0dwKFZTdoIl"
   },
   "outputs": [],
   "source": [
    "Y_val_pred = model_softmax_std.predict(X_val_std)\n",
    "cm_std = confusion_matrix(le.inverse_transform(Y_val),le.inverse_transform(Y_val_pred ) , labels=['sitting', 'sittingdown', 'standing', 'standingup', 'walking'])\n",
    "score_std = f1_score(Y_val,Y_val_pred  , average='micro')\n",
    "cm_df_std = pd.DataFrame(cm_std,columns=['sitting', 'sittingdown', 'standing', 'standingup', 'walking'], index=['sitting', 'sittingdown', 'standing', 'standingup', 'walking'])"
   ]
  },
  {
   "cell_type": "code",
   "execution_count": null,
   "metadata": {
    "colab": {
     "base_uri": "https://localhost:8080/",
     "height": 195
    },
    "executionInfo": {
     "elapsed": 910,
     "status": "ok",
     "timestamp": 1618824326935,
     "user": {
      "displayName": "Георгий Авхименко",
      "photoUrl": "https://lh3.googleusercontent.com/a-/AOh14Ggb8G0V01sdYAorRZZ8WdgvkNc4C9QI8Yyhue4D=s64",
      "userId": "05068323543740234483"
     },
     "user_tz": -180
    },
    "id": "dW5tJeIXdz-l",
    "outputId": "cbeef863-1f43-4e82-8611-9f740a02ac85"
   },
   "outputs": [
    {
     "data": {
      "text/html": [
       "<div>\n",
       "<style scoped>\n",
       "    .dataframe tbody tr th:only-of-type {\n",
       "        vertical-align: middle;\n",
       "    }\n",
       "\n",
       "    .dataframe tbody tr th {\n",
       "        vertical-align: top;\n",
       "    }\n",
       "\n",
       "    .dataframe thead th {\n",
       "        text-align: right;\n",
       "    }\n",
       "</style>\n",
       "<table border=\"1\" class=\"dataframe\">\n",
       "  <thead>\n",
       "    <tr style=\"text-align: right;\">\n",
       "      <th></th>\n",
       "      <th>sitting</th>\n",
       "      <th>sittingdown</th>\n",
       "      <th>standing</th>\n",
       "      <th>standingup</th>\n",
       "      <th>walking</th>\n",
       "    </tr>\n",
       "  </thead>\n",
       "  <tbody>\n",
       "    <tr>\n",
       "      <th>sitting</th>\n",
       "      <td>3561</td>\n",
       "      <td>0</td>\n",
       "      <td>0</td>\n",
       "      <td>1</td>\n",
       "      <td>0</td>\n",
       "    </tr>\n",
       "    <tr>\n",
       "      <th>sittingdown</th>\n",
       "      <td>0</td>\n",
       "      <td>830</td>\n",
       "      <td>0</td>\n",
       "      <td>0</td>\n",
       "      <td>2</td>\n",
       "    </tr>\n",
       "    <tr>\n",
       "      <th>standing</th>\n",
       "      <td>0</td>\n",
       "      <td>0</td>\n",
       "      <td>3288</td>\n",
       "      <td>0</td>\n",
       "      <td>0</td>\n",
       "    </tr>\n",
       "    <tr>\n",
       "      <th>standingup</th>\n",
       "      <td>0</td>\n",
       "      <td>0</td>\n",
       "      <td>0</td>\n",
       "      <td>828</td>\n",
       "      <td>0</td>\n",
       "    </tr>\n",
       "    <tr>\n",
       "      <th>walking</th>\n",
       "      <td>0</td>\n",
       "      <td>0</td>\n",
       "      <td>7</td>\n",
       "      <td>0</td>\n",
       "      <td>2927</td>\n",
       "    </tr>\n",
       "  </tbody>\n",
       "</table>\n",
       "</div>"
      ],
      "text/plain": [
       "             sitting  sittingdown  standing  standingup  walking\n",
       "sitting         3561            0         0           1        0\n",
       "sittingdown        0          830         0           0        2\n",
       "standing           0            0      3288           0        0\n",
       "standingup         0            0         0         828        0\n",
       "walking            0            0         7           0     2927"
      ]
     },
     "execution_count": 20,
     "metadata": {
      "tags": []
     },
     "output_type": "execute_result"
    }
   ],
   "source": [
    " \n",
    "cm_df_std"
   ]
  },
  {
   "cell_type": "markdown",
   "metadata": {},
   "source": [
    "Значение F1 - метрики"
   ]
  },
  {
   "cell_type": "code",
   "execution_count": null,
   "metadata": {
    "colab": {
     "base_uri": "https://localhost:8080/"
    },
    "executionInfo": {
     "elapsed": 989,
     "status": "ok",
     "timestamp": 1618824599680,
     "user": {
      "displayName": "Георгий Авхименко",
      "photoUrl": "https://lh3.googleusercontent.com/a-/AOh14Ggb8G0V01sdYAorRZZ8WdgvkNc4C9QI8Yyhue4D=s64",
      "userId": "05068323543740234483"
     },
     "user_tz": -180
    },
    "id": "L6sgu-4I17z8",
    "outputId": "79370bbf-2c5a-4272-8aaf-c139b16a563c"
   },
   "outputs": [
    {
     "data": {
      "text/plain": [
       "0.9991261796574624"
      ]
     },
     "execution_count": 23,
     "metadata": {
      "tags": []
     },
     "output_type": "execute_result"
    }
   ],
   "source": [
    " score_std"
   ]
  },
  {
   "cell_type": "markdown",
   "metadata": {},
   "source": [
    "Прогноз модели и матрица ошибок на тестовой выборке."
   ]
  },
  {
   "cell_type": "code",
   "execution_count": null,
   "metadata": {
    "id": "pZe_XhNnHm81"
   },
   "outputs": [],
   "source": [
    "Y_test_pred = model_softmax_std.predict(X_test_std)\n",
    "cm_std = confusion_matrix(le.inverse_transform(Y_test),le.inverse_transform(Y_test_pred ) , labels=['sitting', 'sittingdown', 'standing', 'standingup', 'walking'])\n",
    "score_std = f1_score(Y_test,Y_test_pred  , average='micro')\n",
    "cm_df_std = pd.DataFrame(cm_std,columns=['sitting', 'sittingdown', 'standing', 'standingup', 'walking'], index=['sitting', 'sittingdown', 'standing', 'standingup', 'walking'])"
   ]
  },
  {
   "cell_type": "code",
   "execution_count": null,
   "metadata": {
    "colab": {
     "base_uri": "https://localhost:8080/",
     "height": 195
    },
    "executionInfo": {
     "elapsed": 608,
     "status": "ok",
     "timestamp": 1618824629902,
     "user": {
      "displayName": "Георгий Авхименко",
      "photoUrl": "https://lh3.googleusercontent.com/a-/AOh14Ggb8G0V01sdYAorRZZ8WdgvkNc4C9QI8Yyhue4D=s64",
      "userId": "05068323543740234483"
     },
     "user_tz": -180
    },
    "id": "vqywBl6gd2lY",
    "outputId": "31394106-b707-4ee6-82bb-feb26f7bbce0"
   },
   "outputs": [
    {
     "data": {
      "text/html": [
       "<div>\n",
       "<style scoped>\n",
       "    .dataframe tbody tr th:only-of-type {\n",
       "        vertical-align: middle;\n",
       "    }\n",
       "\n",
       "    .dataframe tbody tr th {\n",
       "        vertical-align: top;\n",
       "    }\n",
       "\n",
       "    .dataframe thead th {\n",
       "        text-align: right;\n",
       "    }\n",
       "</style>\n",
       "<table border=\"1\" class=\"dataframe\">\n",
       "  <thead>\n",
       "    <tr style=\"text-align: right;\">\n",
       "      <th></th>\n",
       "      <th>sitting</th>\n",
       "      <th>sittingdown</th>\n",
       "      <th>standing</th>\n",
       "      <th>standingup</th>\n",
       "      <th>walking</th>\n",
       "    </tr>\n",
       "  </thead>\n",
       "  <tbody>\n",
       "    <tr>\n",
       "      <th>sitting</th>\n",
       "      <td>3562</td>\n",
       "      <td>0</td>\n",
       "      <td>0</td>\n",
       "      <td>0</td>\n",
       "      <td>0</td>\n",
       "    </tr>\n",
       "    <tr>\n",
       "      <th>sittingdown</th>\n",
       "      <td>0</td>\n",
       "      <td>831</td>\n",
       "      <td>1</td>\n",
       "      <td>0</td>\n",
       "      <td>0</td>\n",
       "    </tr>\n",
       "    <tr>\n",
       "      <th>standing</th>\n",
       "      <td>0</td>\n",
       "      <td>0</td>\n",
       "      <td>3289</td>\n",
       "      <td>0</td>\n",
       "      <td>0</td>\n",
       "    </tr>\n",
       "    <tr>\n",
       "      <th>standingup</th>\n",
       "      <td>0</td>\n",
       "      <td>0</td>\n",
       "      <td>0</td>\n",
       "      <td>828</td>\n",
       "      <td>0</td>\n",
       "    </tr>\n",
       "    <tr>\n",
       "      <th>walking</th>\n",
       "      <td>0</td>\n",
       "      <td>0</td>\n",
       "      <td>5</td>\n",
       "      <td>0</td>\n",
       "      <td>2928</td>\n",
       "    </tr>\n",
       "  </tbody>\n",
       "</table>\n",
       "</div>"
      ],
      "text/plain": [
       "             sitting  sittingdown  standing  standingup  walking\n",
       "sitting         3562            0         0           0        0\n",
       "sittingdown        0          831         1           0        0\n",
       "standing           0            0      3289           0        0\n",
       "standingup         0            0         0         828        0\n",
       "walking            0            0         5           0     2928"
      ]
     },
     "execution_count": 25,
     "metadata": {
      "tags": []
     },
     "output_type": "execute_result"
    }
   ],
   "source": [
    "cm_df_std"
   ]
  },
  {
   "cell_type": "markdown",
   "metadata": {},
   "source": [
    "Значение F1 - метрики"
   ]
  },
  {
   "cell_type": "code",
   "execution_count": null,
   "metadata": {
    "colab": {
     "base_uri": "https://localhost:8080/"
    },
    "executionInfo": {
     "elapsed": 611,
     "status": "ok",
     "timestamp": 1618824658244,
     "user": {
      "displayName": "Георгий Авхименко",
      "photoUrl": "https://lh3.googleusercontent.com/a-/AOh14Ggb8G0V01sdYAorRZZ8WdgvkNc4C9QI8Yyhue4D=s64",
      "userId": "05068323543740234483"
     },
     "user_tz": -180
    },
    "id": "coNjnG85d8CX",
    "outputId": "7d26146d-f195-4b76-fde7-0a02cdb127b6"
   },
   "outputs": [
    {
     "data": {
      "text/plain": [
       "0.9994757077944775"
      ]
     },
     "execution_count": 27,
     "metadata": {
      "tags": []
     },
     "output_type": "execute_result"
    }
   ],
   "source": [
    "score_std"
   ]
  },
  {
   "cell_type": "markdown",
   "metadata": {
    "id": "mwc4-MKBj2JJ"
   },
   "source": [
    "Произведем отбор признаков. \n",
    "\n",
    "Возьмем разные сочетания признаков, обучаем модель , подбираем гиперпараметры для неё и посмотрим значения метрик на валидационном наборе. \n",
    "\n",
    "Лучшие модели проверим на тестовом наборе.  Посмотрим как работает лучшая модель Softmax регрессии на разный наборах признаков.\n",
    "\n",
    "Мера качества F-мера с микроусреднением"
   ]
  },
  {
   "cell_type": "markdown",
   "metadata": {},
   "source": [
    "Рассмотрим следующие варианты поднаборов:\n",
    "* Среднее и стандартное отклонение по всем координатам, среднее и стандартное отклонение по модулю ускорения\n",
    "* Среднее по всем координатам, среднее по модулю ускорения\n",
    "* Среднее по всем координатам\n",
    "* Среднее по модулю ускорения"
   ]
  },
  {
   "cell_type": "code",
   "execution_count": null,
   "metadata": {
    "id": "5I6UYJakkMzR"
   },
   "outputs": [],
   "source": [
    "variants =[ \n",
    "    ['x1_mean', 'y1_mean', 'z1_mean', 'x2_mean', 'y2_mean', 'z2_mean','x3_mean', 'y3_mean', 'z3_mean', 'x4_mean', 'y4_mean', 'z4_mean', \n",
    "    'x1_Std', 'y1_Std', 'z1_Std', 'x2_Std', 'y2_Std', 'z2_Std', 'x3_Std', 'y3_Std', 'z3_Std', 'x4_Std', 'y4_Std', 'z4_Std', \n",
    "     'a1_mean','a2_mean', 'a3_mean', 'a4_mean',\n",
    "    'a1_Std', 'a2_Std', 'a3_Std', 'a4_Std'\n",
    "       ],\n",
    "\n",
    "   ['x1_mean', 'y1_mean', 'z1_mean', 'x2_mean', 'y2_mean', 'z2_mean','x3_mean', 'y3_mean', 'z3_mean', 'x4_mean', 'y4_mean', 'z4_mean', \n",
    "     'a1_mean','a2_mean', 'a3_mean', 'a4_mean' ],\n",
    "\n",
    "     ['x1_mean', 'y1_mean', 'z1_mean', 'x2_mean', 'y2_mean', 'z2_mean','x3_mean', 'y3_mean', 'z3_mean', 'x4_mean', 'y4_mean', 'z4_mean'],\n",
    "      \n",
    "      ['a1_mean','a2_mean', 'a3_mean', 'a4_mean']\n",
    "\n",
    "    ]"
   ]
  },
  {
   "cell_type": "markdown",
   "metadata": {},
   "source": [
    "Вспомогательные функции"
   ]
  },
  {
   "cell_type": "code",
   "execution_count": null,
   "metadata": {
    "id": "EsqdsQq0lJOp"
   },
   "outputs": [],
   "source": [
    "# фукция выполняет решетчатый поиск по заданной сетке, метрике качества, CV-схеме и возвращает \n",
    "# модель с лучшими параметрами, сами парамерами и и оценку на кросс-валидации\n",
    "# model  - модель для оптимизации\n",
    "# grid_par - сетка параметров\n",
    "# score_mes - метрика качества\n",
    "# spliter_cvd - СV - схема\n",
    "# verbs - параметр verbose\n",
    "# n_proc - количество потоков процессора\n",
    "def fit_and_choose(X,Y , model ,  grid_par , score_mes , spliter_cvd , verbs ,n_proc ):\n",
    "    gsC =GridSearchCV(estimator= model,\n",
    "             param_grid=   grid_par,\n",
    "             scoring =score_mes,\n",
    "             refit=True,\n",
    "             cv = spliter_cvd ,\n",
    "             verbose =  verbs,\n",
    "             n_jobs = n_proc\n",
    "             )\n",
    "    gsC.fit(X, Y)\n",
    "    return {'best model': gsC.best_estimator_ ,\n",
    "          'best params' : gsC.best_params_,\n",
    "          'best score': gsC.best_score_}\n",
    "   "
   ]
  },
  {
   "cell_type": "code",
   "execution_count": null,
   "metadata": {
    "id": "jl__TZPYFe2n"
   },
   "outputs": [],
   "source": [
    "# функция принимает прогнозы модели (Y_predicted) и правильные прогнозы ( Y_true)\n",
    "#le - кодировщик для декодирования меток класса\n",
    "# функция возвращает матрицу ошибок и значение F меры\n",
    "def conf_matr_and_score_f1(Y_predicted , Y_true,le):\n",
    "\n",
    "    cmatr  = confusion_matrix(le.inverse_transform(Y_true),le.inverse_transform(Y_predicted) , labels=['sitting', 'sittingdown', 'standing', 'standingup', 'walking'])\n",
    "    score_f1 = f1_score(Y_true,Y_predicted  , average='micro')\n",
    "    cmatr_df = pd.DataFrame(cmatr,columns=['sitting', 'sittingdown', 'standing', 'standingup', 'walking'], index=['sitting', 'sittingdown', 'standing', 'standingup', 'walking'])\n",
    "    return {'conf_matr': cmatr_df , 'f1-score':score_f1 }"
   ]
  },
  {
   "cell_type": "code",
   "execution_count": 1,
   "metadata": {
    "id": "IhXKUxj_lQXK"
   },
   "outputs": [],
   "source": [
    "# функция для отбора признаков из 4 вышеперечисленных вариантов\n",
    "# возвращает:\n",
    "# проверенные признаки\n",
    "# матрицу ошибок на тренировочной выборке\n",
    "# матрицу ошибок на валидационной выборке\n",
    "# F меру на тренировочной выборке\n",
    "# F меру на валидационной выборке\n",
    "# Использованную модель\n",
    "# Гиперпараметры модели\n",
    "'''dt - датафрейм\n",
    "col_class - колонка с меткой класса\n",
    " vars - варианты столбцов из датафрейма\n",
    " modl - модель\n",
    "grid_parm - сетка параметров поиска\n",
    "score_mesr - мера оценки для кросс - валидации\n",
    "spliter_cvd - разделитель для кросс-валидации\n",
    "verbos - вывод информации по процессу на кросс-валидации\n",
    "n_procs - число потоков'''\n",
    "def feature_select(dt ,col_class, vars , modl ,  grid_parm , score_mesr , spliter_cvd , verbos ,n_procs ):\n",
    "    list_of_sel_results = []\n",
    "    # циклический проход по списку вариантов\n",
    "    for vari in vars:\n",
    "        print('checking variant:')\n",
    "        # вывод списка признаков на печать\n",
    "        for i in vari:\n",
    "            print(i,' ',end = '')\n",
    "        print() \n",
    "     \n",
    "        # кодирование меток \n",
    "        le =  LabelEncoder()\n",
    "        le.fit(dt[col_class])\n",
    "        Y = le.transform(dt[col_class])\n",
    "        # разделние выборок в отношении 60-20-20 (train , validation , test)\n",
    "        X =np.array( dt[vari]) \n",
    "        X_train, X_val, Y_train, Y_val = train_test_split(X, Y, test_size=0.4, random_state=42 ,stratify = Y )\n",
    "        X_val, X_test, Y_val, Y_test = train_test_split(X_val,  Y_val, test_size=0.5, random_state=42 ,stratify =  Y_val )\n",
    "        # масштабирование признаков\n",
    "        scaler_std = StandardScaler().fit(X_train)\n",
    "        X_train_scaled_std = scaler_std.transform(X_train)\n",
    "        X_val_scaled_std =  scaler_std.transform(X_val)\n",
    "        # оптимизация гиперпараметров модели\n",
    "        reslt = fit_and_choose(X_train_scaled_std,Y_train , \n",
    "                        modl   , \n",
    "                       grid_parm,\n",
    "                        score_mesr , \n",
    "                        spliter_cvd,\n",
    "                         verbos ,\n",
    "                         n_procs )\n",
    "        bModel = reslt['best model']\n",
    "        Y_pred_val = bModel.predict(X_val_scaled_std)\n",
    "        Y_pred_train = bModel.predict(X_train_scaled_std)\n",
    "        # получение матриц ошибок и F мер\n",
    "        cm_train= confusion_matrix(le.inverse_transform(Y_train),le.inverse_transform(Y_pred_train) ,\n",
    "                               labels=['sitting', 'sittingdown', 'standing', 'standingup', 'walking'])\n",
    "        score_train = f1_score(Y_train,Y_pred_train , average='micro')\n",
    "        cm_df_train = pd.DataFrame(cm_train,columns=['sitting', 'sittingdown', 'standing', 'standingup', 'walking'], \n",
    "                               index=['sitting', 'sittingdown', 'standing', 'standingup', 'walking'])\n",
    "    \n",
    "        cm_val= confusion_matrix(le.inverse_transform(Y_val),le.inverse_transform(Y_pred_val) ,\n",
    "                               labels=['sitting', 'sittingdown', 'standing', 'standingup', 'walking'])\n",
    "        score_val = f1_score(Y_val,Y_pred_val , average='micro')\n",
    "        cm_df_val = pd.DataFrame(cm_val,columns=['sitting', 'sittingdown', 'standing', 'standingup', 'walking'], \n",
    "                               index=['sitting', 'sittingdown', 'standing', 'standingup', 'walking'])\n",
    "    \n",
    "        list_of_sel_results.append({'variant': vari,\n",
    "                                'conf_matr_train':cm_df_train ,\n",
    "                                'conf_matr_val': cm_df_val ,\n",
    "                                'f1_train':score_train  ,\n",
    "                                'f1_val': score_val  ,\n",
    "                                'model' : bModel,\n",
    "                                'model_params': reslt['best params']\n",
    "                                })\n",
    "        return list_of_sel_results\n",
    "    "
   ]
  },
  {
   "cell_type": "code",
   "execution_count": null,
   "metadata": {
    "colab": {
     "base_uri": "https://localhost:8080/"
    },
    "executionInfo": {
     "elapsed": 1484761,
     "status": "ok",
     "timestamp": 1618828856317,
     "user": {
      "displayName": "Георгий Авхименко",
      "photoUrl": "https://lh3.googleusercontent.com/a-/AOh14Ggb8G0V01sdYAorRZZ8WdgvkNc4C9QI8Yyhue4D=s64",
      "userId": "05068323543740234483"
     },
     "user_tz": -180
    },
    "id": "8CpX7cydlaoC",
    "outputId": "60b33fb0-b6b3-42c7-8450-81d5d1cdad99"
   },
   "outputs": [
    {
     "name": "stdout",
     "output_type": "stream",
     "text": [
      "checking variant:\n",
      "x1_mean  y1_mean  z1_mean  x2_mean  y2_mean  z2_mean  x3_mean  y3_mean  z3_mean  x4_mean  y4_mean  z4_mean  x1_Std  y1_Std  z1_Std  x2_Std  y2_Std  z2_Std  x3_Std  y3_Std  z3_Std  x4_Std  y4_Std  z4_Std  a1_mean  a2_mean  a3_mean  a4_mean  a1_Std  a2_Std  a3_Std  a4_Std  \n",
      "Fitting 10 folds for each of 19 candidates, totalling 190 fits\n"
     ]
    },
    {
     "name": "stderr",
     "output_type": "stream",
     "text": [
      "[Parallel(n_jobs=-1)]: Using backend LokyBackend with 2 concurrent workers.\n",
      "[Parallel(n_jobs=-1)]: Done  21 tasks      | elapsed:   49.9s\n",
      "[Parallel(n_jobs=-1)]: Done  94 tasks      | elapsed:  3.9min\n",
      "[Parallel(n_jobs=-1)]: Done 190 out of 190 | elapsed:  8.4min finished\n",
      "[Parallel(n_jobs=1)]: Using backend SequentialBackend with 1 concurrent workers.\n",
      "[Parallel(n_jobs=1)]: Done   1 out of   1 | elapsed:    6.1s remaining:    0.0s\n",
      "[Parallel(n_jobs=1)]: Done   1 out of   1 | elapsed:    6.1s finished\n"
     ]
    },
    {
     "name": "stdout",
     "output_type": "stream",
     "text": [
      "checking variant:\n",
      "x1_mean  y1_mean  z1_mean  x2_mean  y2_mean  z2_mean  x3_mean  y3_mean  z3_mean  x4_mean  y4_mean  z4_mean  a1_mean  a2_mean  a3_mean  a4_mean  \n",
      "Fitting 10 folds for each of 19 candidates, totalling 190 fits\n"
     ]
    },
    {
     "name": "stderr",
     "output_type": "stream",
     "text": [
      "[Parallel(n_jobs=-1)]: Using backend LokyBackend with 2 concurrent workers.\n",
      "[Parallel(n_jobs=-1)]: Done  21 tasks      | elapsed:   36.3s\n",
      "[Parallel(n_jobs=-1)]: Done  94 tasks      | elapsed:  2.9min\n",
      "[Parallel(n_jobs=-1)]: Done 190 out of 190 | elapsed:  6.4min finished\n",
      "[Parallel(n_jobs=1)]: Using backend SequentialBackend with 1 concurrent workers.\n",
      "[Parallel(n_jobs=1)]: Done   1 out of   1 | elapsed:    4.8s remaining:    0.0s\n",
      "[Parallel(n_jobs=1)]: Done   1 out of   1 | elapsed:    4.8s finished\n"
     ]
    },
    {
     "name": "stdout",
     "output_type": "stream",
     "text": [
      "checking variant:\n",
      "x1_mean  y1_mean  z1_mean  x2_mean  y2_mean  z2_mean  x3_mean  y3_mean  z3_mean  x4_mean  y4_mean  z4_mean  \n",
      "Fitting 10 folds for each of 19 candidates, totalling 190 fits\n"
     ]
    },
    {
     "name": "stderr",
     "output_type": "stream",
     "text": [
      "[Parallel(n_jobs=-1)]: Using backend LokyBackend with 2 concurrent workers.\n",
      "[Parallel(n_jobs=-1)]: Done  21 tasks      | elapsed:   33.3s\n",
      "[Parallel(n_jobs=-1)]: Done  94 tasks      | elapsed:  2.7min\n",
      "[Parallel(n_jobs=-1)]: Done 190 out of 190 | elapsed:  5.9min finished\n",
      "[Parallel(n_jobs=1)]: Using backend SequentialBackend with 1 concurrent workers.\n",
      "[Parallel(n_jobs=1)]: Done   1 out of   1 | elapsed:    4.0s remaining:    0.0s\n",
      "[Parallel(n_jobs=1)]: Done   1 out of   1 | elapsed:    4.0s finished\n"
     ]
    },
    {
     "name": "stdout",
     "output_type": "stream",
     "text": [
      "checking variant:\n",
      "a1_mean  a2_mean  a3_mean  a4_mean  \n",
      "Fitting 10 folds for each of 19 candidates, totalling 190 fits\n"
     ]
    },
    {
     "name": "stderr",
     "output_type": "stream",
     "text": [
      "[Parallel(n_jobs=-1)]: Using backend LokyBackend with 2 concurrent workers.\n",
      "[Parallel(n_jobs=-1)]: Done  21 tasks      | elapsed:   24.6s\n",
      "[Parallel(n_jobs=-1)]: Done  94 tasks      | elapsed:  1.8min\n",
      "[Parallel(n_jobs=-1)]: Done 190 out of 190 | elapsed:  3.7min finished\n",
      "[Parallel(n_jobs=1)]: Using backend SequentialBackend with 1 concurrent workers.\n",
      "[Parallel(n_jobs=1)]: Done   1 out of   1 | elapsed:    2.6s remaining:    0.0s\n",
      "[Parallel(n_jobs=1)]: Done   1 out of   1 | elapsed:    2.6s finished\n"
     ]
    }
   ],
   "source": [
    "data_ftr = feature_select(data ,\n",
    "                          'class', \n",
    "                          variants ,\n",
    "                          LogisticRegression( penalty ='l2',multi_class='multinomial',solver='newton-cg',verbose=2) ,\n",
    "                          {'C': c_vars } ,\n",
    "                          'f1_micro'  ,\n",
    "                          StratifiedKFold(n_splits=10,  shuffle=True, random_state = 42 ) , \n",
    "                          4 ,\n",
    "                          -1 ) "
   ]
  },
  {
   "cell_type": "markdown",
   "metadata": {},
   "source": [
    "Вывод результатов по вариантам признаков"
   ]
  },
  {
   "cell_type": "code",
   "execution_count": null,
   "metadata": {
    "colab": {
     "base_uri": "https://localhost:8080/"
    },
    "executionInfo": {
     "elapsed": 637,
     "status": "ok",
     "timestamp": 1618830567844,
     "user": {
      "displayName": "Георгий Авхименко",
      "photoUrl": "https://lh3.googleusercontent.com/a-/AOh14Ggb8G0V01sdYAorRZZ8WdgvkNc4C9QI8Yyhue4D=s64",
      "userId": "05068323543740234483"
     },
     "user_tz": -180
    },
    "id": "PSqiDEtylapC",
    "outputId": "35d6455d-0620-4389-fb0c-c5af1c715cad"
   },
   "outputs": [
    {
     "data": {
      "text/plain": [
       "{'conf_matr_train':              sitting  sittingdown  standing  standingup  walking\n",
       " sitting        10685            0         0           0        0\n",
       " sittingdown        0         2496         0           0        0\n",
       " standing           0            0      9865           0        0\n",
       " standingup         0            0         0        2484        0\n",
       " walking            0            0        15           0     8785,\n",
       " 'conf_matr_val':              sitting  sittingdown  standing  standingup  walking\n",
       " sitting         3562            0         0           0        0\n",
       " sittingdown        0          832         0           0        0\n",
       " standing           0            0      3288           0        0\n",
       " standingup         0            0         0         828        0\n",
       " walking            0            0         7           0     2927,\n",
       " 'f1_train': 0.999563064375182,\n",
       " 'f1_val': 0.9993883257602237,\n",
       " 'model': LogisticRegression(C=9.5, class_weight=None, dual=False, fit_intercept=True,\n",
       "                    intercept_scaling=1, l1_ratio=None, max_iter=100,\n",
       "                    multi_class='multinomial', n_jobs=None, penalty='l2',\n",
       "                    random_state=None, solver='newton-cg', tol=0.0001, verbose=2,\n",
       "                    warm_start=False),\n",
       " 'model_params': {'C': 9.5},\n",
       " 'variant': ['x1_mean',\n",
       "  'y1_mean',\n",
       "  'z1_mean',\n",
       "  'x2_mean',\n",
       "  'y2_mean',\n",
       "  'z2_mean',\n",
       "  'x3_mean',\n",
       "  'y3_mean',\n",
       "  'z3_mean',\n",
       "  'x4_mean',\n",
       "  'y4_mean',\n",
       "  'z4_mean',\n",
       "  'x1_Std',\n",
       "  'y1_Std',\n",
       "  'z1_Std',\n",
       "  'x2_Std',\n",
       "  'y2_Std',\n",
       "  'z2_Std',\n",
       "  'x3_Std',\n",
       "  'y3_Std',\n",
       "  'z3_Std',\n",
       "  'x4_Std',\n",
       "  'y4_Std',\n",
       "  'z4_Std',\n",
       "  'a1_mean',\n",
       "  'a2_mean',\n",
       "  'a3_mean',\n",
       "  'a4_mean',\n",
       "  'a1_Std',\n",
       "  'a2_Std',\n",
       "  'a3_Std',\n",
       "  'a4_Std']}"
      ]
     },
     "execution_count": 41,
     "metadata": {
      "tags": []
     },
     "output_type": "execute_result"
    }
   ],
   "source": [
    "data_ftr[0]"
   ]
  },
  {
   "cell_type": "code",
   "execution_count": null,
   "metadata": {
    "colab": {
     "base_uri": "https://localhost:8080/"
    },
    "executionInfo": {
     "elapsed": 634,
     "status": "ok",
     "timestamp": 1618830593193,
     "user": {
      "displayName": "Георгий Авхименко",
      "photoUrl": "https://lh3.googleusercontent.com/a-/AOh14Ggb8G0V01sdYAorRZZ8WdgvkNc4C9QI8Yyhue4D=s64",
      "userId": "05068323543740234483"
     },
     "user_tz": -180
    },
    "id": "lniftI6Blaxh",
    "outputId": "91004850-82e4-48f0-8626-57ecca5b9526"
   },
   "outputs": [
    {
     "data": {
      "text/plain": [
       "{'conf_matr_train':              sitting  sittingdown  standing  standingup  walking\n",
       " sitting        10685            0         0           0        0\n",
       " sittingdown        1         2477        15           1        2\n",
       " standing           0            0      9863           2        0\n",
       " standingup         0            5         0        2477        2\n",
       " walking            0            6        40           0     8754,\n",
       " 'conf_matr_val':              sitting  sittingdown  standing  standingup  walking\n",
       " sitting         3562            0         0           0        0\n",
       " sittingdown        2          824         6           0        0\n",
       " standing           0            0      3287           1        0\n",
       " standingup         0            4         0         823        1\n",
       " walking            0            0        15           0     2919,\n",
       " 'f1_train': 0.9978444509175648,\n",
       " 'f1_val': 0.997465921006641,\n",
       " 'model': LogisticRegression(C=9.5, class_weight=None, dual=False, fit_intercept=True,\n",
       "                    intercept_scaling=1, l1_ratio=None, max_iter=100,\n",
       "                    multi_class='multinomial', n_jobs=None, penalty='l2',\n",
       "                    random_state=None, solver='newton-cg', tol=0.0001, verbose=2,\n",
       "                    warm_start=False),\n",
       " 'model_params': {'C': 9.5},\n",
       " 'variant': ['x1_mean',\n",
       "  'y1_mean',\n",
       "  'z1_mean',\n",
       "  'x2_mean',\n",
       "  'y2_mean',\n",
       "  'z2_mean',\n",
       "  'x3_mean',\n",
       "  'y3_mean',\n",
       "  'z3_mean',\n",
       "  'x4_mean',\n",
       "  'y4_mean',\n",
       "  'z4_mean',\n",
       "  'a1_mean',\n",
       "  'a2_mean',\n",
       "  'a3_mean',\n",
       "  'a4_mean']}"
      ]
     },
     "execution_count": 42,
     "metadata": {
      "tags": []
     },
     "output_type": "execute_result"
    }
   ],
   "source": [
    "data_ftr[1]"
   ]
  },
  {
   "cell_type": "code",
   "execution_count": null,
   "metadata": {
    "colab": {
     "base_uri": "https://localhost:8080/"
    },
    "executionInfo": {
     "elapsed": 1279,
     "status": "ok",
     "timestamp": 1618830596722,
     "user": {
      "displayName": "Георгий Авхименко",
      "photoUrl": "https://lh3.googleusercontent.com/a-/AOh14Ggb8G0V01sdYAorRZZ8WdgvkNc4C9QI8Yyhue4D=s64",
      "userId": "05068323543740234483"
     },
     "user_tz": -180
    },
    "id": "o0JKGbPj0lWX",
    "outputId": "ef3a351d-031f-4907-8951-e6af38f657ca"
   },
   "outputs": [
    {
     "data": {
      "text/plain": [
       "{'conf_matr_train':              sitting  sittingdown  standing  standingup  walking\n",
       " sitting        10683            0         0           2        0\n",
       " sittingdown        1         2470        22           2        1\n",
       " standing           0            0      9857           0        8\n",
       " standingup         0           10         0        2471        3\n",
       " walking            0            8        56           0     8736,\n",
       " 'conf_matr_val':              sitting  sittingdown  standing  standingup  walking\n",
       " sitting         3561            0         0           1        0\n",
       " sittingdown        2          823         7           0        0\n",
       " standing           0            0      3288           0        0\n",
       " standingup         0            5         0         821        2\n",
       " walking            0            0        23           0     2911,\n",
       " 'f1_train': 0.9967084182930381,\n",
       " 'f1_val': 0.9965047186298497,\n",
       " 'model': LogisticRegression(C=9.5, class_weight=None, dual=False, fit_intercept=True,\n",
       "                    intercept_scaling=1, l1_ratio=None, max_iter=100,\n",
       "                    multi_class='multinomial', n_jobs=None, penalty='l2',\n",
       "                    random_state=None, solver='newton-cg', tol=0.0001, verbose=2,\n",
       "                    warm_start=False),\n",
       " 'model_params': {'C': 9.5},\n",
       " 'variant': ['x1_mean',\n",
       "  'y1_mean',\n",
       "  'z1_mean',\n",
       "  'x2_mean',\n",
       "  'y2_mean',\n",
       "  'z2_mean',\n",
       "  'x3_mean',\n",
       "  'y3_mean',\n",
       "  'z3_mean',\n",
       "  'x4_mean',\n",
       "  'y4_mean',\n",
       "  'z4_mean']}"
      ]
     },
     "execution_count": 43,
     "metadata": {
      "tags": []
     },
     "output_type": "execute_result"
    }
   ],
   "source": [
    "data_ftr[2]"
   ]
  },
  {
   "cell_type": "code",
   "execution_count": null,
   "metadata": {
    "colab": {
     "base_uri": "https://localhost:8080/"
    },
    "executionInfo": {
     "elapsed": 630,
     "status": "ok",
     "timestamp": 1618830599814,
     "user": {
      "displayName": "Георгий Авхименко",
      "photoUrl": "https://lh3.googleusercontent.com/a-/AOh14Ggb8G0V01sdYAorRZZ8WdgvkNc4C9QI8Yyhue4D=s64",
      "userId": "05068323543740234483"
     },
     "user_tz": -180
    },
    "id": "BfBqzvF50lhl",
    "outputId": "1dc61138-af09-4093-b302-a8388557e02b"
   },
   "outputs": [
    {
     "data": {
      "text/plain": [
       "{'conf_matr_train':              sitting  sittingdown  standing  standingup  walking\n",
       " sitting        10509          154         7           6        9\n",
       " sittingdown      150         1840       282         162       62\n",
       " standing         299            0      7729         373     1464\n",
       " standingup         3          412       662        1373       34\n",
       " walking            0            0      3000           0     5800,\n",
       " 'conf_matr_val':              sitting  sittingdown  standing  standingup  walking\n",
       " sitting         3491           67         2           0        2\n",
       " sittingdown       60          613        97          41       21\n",
       " standing          96            0      2622         121      449\n",
       " standingup         1          151       200         467        9\n",
       " walking            0            0       981           0     1953,\n",
       " 'f1_train': 0.7937955141275852,\n",
       " 'f1_val': 0.7991960852848654,\n",
       " 'model': LogisticRegression(C=9.0, class_weight=None, dual=False, fit_intercept=True,\n",
       "                    intercept_scaling=1, l1_ratio=None, max_iter=100,\n",
       "                    multi_class='multinomial', n_jobs=None, penalty='l2',\n",
       "                    random_state=None, solver='newton-cg', tol=0.0001, verbose=2,\n",
       "                    warm_start=False),\n",
       " 'model_params': {'C': 9.0},\n",
       " 'variant': ['a1_mean', 'a2_mean', 'a3_mean', 'a4_mean']}"
      ]
     },
     "execution_count": 44,
     "metadata": {
      "tags": []
     },
     "output_type": "execute_result"
    }
   ],
   "source": [
    "data_ftr[3]"
   ]
  },
  {
   "cell_type": "markdown",
   "metadata": {
    "id": "y15G-JEX3TTX"
   },
   "source": [
    "Две последние модели проверим на тестовом наборе"
   ]
  },
  {
   "cell_type": "markdown",
   "metadata": {
    "id": "iXG0ou3j3Yz7"
   },
   "source": [
    "Пространство из 12 признаков"
   ]
  },
  {
   "cell_type": "markdown",
   "metadata": {},
   "source": [
    "Подготовка данных и оценка модели на тестовом наборе"
   ]
  },
  {
   "cell_type": "code",
   "execution_count": null,
   "metadata": {
    "id": "mJeMSTJn0lt6"
   },
   "outputs": [],
   "source": [
    " \n",
    "X = np.array(data[ ['x1_mean', 'y1_mean', 'z1_mean', 'x2_mean', 'y2_mean', 'z2_mean','x3_mean', 'y3_mean', 'z3_mean', 'x4_mean', 'y4_mean', 'z4_mean'] ])\n",
    "X_train12, X_val12, Y_train12, Y_val12 = train_test_split(X, Y, test_size=0.4, random_state=42 ,stratify = Y )\n",
    "X_val12, X_test12, Y_val12, Y_test12 = train_test_split(X_val12,  Y_val12, test_size=0.5, random_state=42 ,stratify =  Y_val12 )"
   ]
  },
  {
   "cell_type": "code",
   "execution_count": null,
   "metadata": {
    "id": "_1H3ro595mGh"
   },
   "outputs": [],
   "source": [
    " \n",
    "le =  LabelEncoder()\n",
    "le.fit(data['class'])\n",
    "Y = le.transform(data['class'])"
   ]
  },
  {
   "cell_type": "code",
   "execution_count": null,
   "metadata": {
    "id": "AUGpW3as3_7Q"
   },
   "outputs": [],
   "source": [
    " \n",
    "scaler_std12 = StandardScaler().fit(X_train12)\n",
    "X_train_std12 = scaler_std12.transform(X_train12)\n",
    "X_val_std12 =  scaler_std12.transform(X_val12)\n",
    "X_test_std12 =  scaler_std12.transform(X_test12)"
   ]
  },
  {
   "cell_type": "code",
   "execution_count": null,
   "metadata": {
    "id": "eS4KKbrP3vbg"
   },
   "outputs": [],
   "source": [
    "Y_test_pred12 = data_ftr[2]['model'].predict(X_test_std12)\n",
    " \n",
    "q12 = conf_matr_and_score_f1(Y_test_pred12  ,Y_test12,le)"
   ]
  },
  {
   "cell_type": "markdown",
   "metadata": {},
   "source": [
    "Матрица ошибок"
   ]
  },
  {
   "cell_type": "code",
   "execution_count": null,
   "metadata": {
    "colab": {
     "base_uri": "https://localhost:8080/",
     "height": 195
    },
    "executionInfo": {
     "elapsed": 643,
     "status": "ok",
     "timestamp": 1618835494484,
     "user": {
      "displayName": "Георгий Авхименко",
      "photoUrl": "https://lh3.googleusercontent.com/a-/AOh14Ggb8G0V01sdYAorRZZ8WdgvkNc4C9QI8Yyhue4D=s64",
      "userId": "05068323543740234483"
     },
     "user_tz": -180
    },
    "id": "UdZF-qeqD7La",
    "outputId": "dcaf7720-34b9-4ad2-dcc3-af2a94b226a1"
   },
   "outputs": [
    {
     "data": {
      "text/html": [
       "<div>\n",
       "<style scoped>\n",
       "    .dataframe tbody tr th:only-of-type {\n",
       "        vertical-align: middle;\n",
       "    }\n",
       "\n",
       "    .dataframe tbody tr th {\n",
       "        vertical-align: top;\n",
       "    }\n",
       "\n",
       "    .dataframe thead th {\n",
       "        text-align: right;\n",
       "    }\n",
       "</style>\n",
       "<table border=\"1\" class=\"dataframe\">\n",
       "  <thead>\n",
       "    <tr style=\"text-align: right;\">\n",
       "      <th></th>\n",
       "      <th>sitting</th>\n",
       "      <th>sittingdown</th>\n",
       "      <th>standing</th>\n",
       "      <th>standingup</th>\n",
       "      <th>walking</th>\n",
       "    </tr>\n",
       "  </thead>\n",
       "  <tbody>\n",
       "    <tr>\n",
       "      <th>sitting</th>\n",
       "      <td>3560</td>\n",
       "      <td>0</td>\n",
       "      <td>0</td>\n",
       "      <td>2</td>\n",
       "      <td>0</td>\n",
       "    </tr>\n",
       "    <tr>\n",
       "      <th>sittingdown</th>\n",
       "      <td>3</td>\n",
       "      <td>827</td>\n",
       "      <td>2</td>\n",
       "      <td>0</td>\n",
       "      <td>0</td>\n",
       "    </tr>\n",
       "    <tr>\n",
       "      <th>standing</th>\n",
       "      <td>0</td>\n",
       "      <td>0</td>\n",
       "      <td>3282</td>\n",
       "      <td>0</td>\n",
       "      <td>7</td>\n",
       "    </tr>\n",
       "    <tr>\n",
       "      <th>standingup</th>\n",
       "      <td>0</td>\n",
       "      <td>4</td>\n",
       "      <td>0</td>\n",
       "      <td>823</td>\n",
       "      <td>1</td>\n",
       "    </tr>\n",
       "    <tr>\n",
       "      <th>walking</th>\n",
       "      <td>0</td>\n",
       "      <td>2</td>\n",
       "      <td>14</td>\n",
       "      <td>0</td>\n",
       "      <td>2917</td>\n",
       "    </tr>\n",
       "  </tbody>\n",
       "</table>\n",
       "</div>"
      ],
      "text/plain": [
       "             sitting  sittingdown  standing  standingup  walking\n",
       "sitting         3560            0         0           2        0\n",
       "sittingdown        3          827         2           0        0\n",
       "standing           0            0      3282           0        7\n",
       "standingup         0            4         0         823        1\n",
       "walking            0            2        14           0     2917"
      ]
     },
     "execution_count": 81,
     "metadata": {
      "tags": []
     },
     "output_type": "execute_result"
    }
   ],
   "source": [
    "q12['conf_matr']"
   ]
  },
  {
   "cell_type": "markdown",
   "metadata": {
    "id": "xfhESmkqgb_b"
   },
   "source": [
    "F мера"
   ]
  },
  {
   "cell_type": "code",
   "execution_count": null,
   "metadata": {
    "colab": {
     "base_uri": "https://localhost:8080/"
    },
    "executionInfo": {
     "elapsed": 629,
     "status": "ok",
     "timestamp": 1618835581401,
     "user": {
      "displayName": "Георгий Авхименко",
      "photoUrl": "https://lh3.googleusercontent.com/a-/AOh14Ggb8G0V01sdYAorRZZ8WdgvkNc4C9QI8Yyhue4D=s64",
      "userId": "05068323543740234483"
     },
     "user_tz": -180
    },
    "id": "ItQYR56iHoN3",
    "outputId": "90d5c5b3-9013-4d27-c6e0-08bda0ac7dc7"
   },
   "outputs": [
    {
     "data": {
      "text/plain": [
       "0.9969416288011185"
      ]
     },
     "execution_count": 82,
     "metadata": {
      "tags": []
     },
     "output_type": "execute_result"
    }
   ],
   "source": [
    "q12['f1-score']"
   ]
  },
  {
   "cell_type": "markdown",
   "metadata": {
    "id": "HoIy67g-H0iN"
   },
   "source": [
    "Пространство из 4 признаков"
   ]
  },
  {
   "cell_type": "markdown",
   "metadata": {},
   "source": [
    "Подготовка данных и оценка модели на тестовом наборе"
   ]
  },
  {
   "cell_type": "code",
   "execution_count": null,
   "metadata": {
    "id": "IxbawRC2HrEu"
   },
   "outputs": [],
   "source": [
    " \n",
    "X = np.array(data[  ['a1_mean','a2_mean', 'a3_mean', 'a4_mean'] ])\n",
    "X_train4, X_val4, Y_train4, Y_val4 = train_test_split(X, Y, test_size=0.4, random_state=42 ,stratify = Y )\n",
    "X_val4, X_test4, Y_val4, Y_test4 = train_test_split(X_val4,  Y_val4, test_size=0.5, random_state=42 ,stratify =  Y_val4 )\n",
    " \n",
    "le =  LabelEncoder()\n",
    "le.fit(data['class'])\n",
    "Y = le.transform(data['class'])\n",
    " \n",
    "scaler_std4 = StandardScaler().fit(X_train4)\n",
    "X_train_std4 = scaler_std4.transform(X_train4)\n",
    "X_val_std4 =  scaler_std4.transform(X_val4)\n",
    "X_test_std4 =  scaler_std4.transform(X_test4)\n",
    "\n",
    " \n"
   ]
  },
  {
   "cell_type": "code",
   "execution_count": null,
   "metadata": {
    "id": "K1VyxYPkI3Pj"
   },
   "outputs": [],
   "source": [
    "Y_test_pred4 = data_ftr[3]['model'].predict(X_test_std4)\n",
    "q4 = conf_matr_and_score_f1(Y_test_pred4  ,Y_test4,le)"
   ]
  },
  {
   "cell_type": "markdown",
   "metadata": {},
   "source": [
    "Матрица ошибок"
   ]
  },
  {
   "cell_type": "code",
   "execution_count": null,
   "metadata": {
    "colab": {
     "base_uri": "https://localhost:8080/",
     "height": 195
    },
    "executionInfo": {
     "elapsed": 486,
     "status": "ok",
     "timestamp": 1618835980353,
     "user": {
      "displayName": "Георгий Авхименко",
      "photoUrl": "https://lh3.googleusercontent.com/a-/AOh14Ggb8G0V01sdYAorRZZ8WdgvkNc4C9QI8Yyhue4D=s64",
      "userId": "05068323543740234483"
     },
     "user_tz": -180
    },
    "id": "yBq8h_LEHrXV",
    "outputId": "014d491e-3aa6-497e-c2df-9fde8e8b9991"
   },
   "outputs": [
    {
     "data": {
      "text/html": [
       "<div>\n",
       "<style scoped>\n",
       "    .dataframe tbody tr th:only-of-type {\n",
       "        vertical-align: middle;\n",
       "    }\n",
       "\n",
       "    .dataframe tbody tr th {\n",
       "        vertical-align: top;\n",
       "    }\n",
       "\n",
       "    .dataframe thead th {\n",
       "        text-align: right;\n",
       "    }\n",
       "</style>\n",
       "<table border=\"1\" class=\"dataframe\">\n",
       "  <thead>\n",
       "    <tr style=\"text-align: right;\">\n",
       "      <th></th>\n",
       "      <th>sitting</th>\n",
       "      <th>sittingdown</th>\n",
       "      <th>standing</th>\n",
       "      <th>standingup</th>\n",
       "      <th>walking</th>\n",
       "    </tr>\n",
       "  </thead>\n",
       "  <tbody>\n",
       "    <tr>\n",
       "      <th>sitting</th>\n",
       "      <td>3508</td>\n",
       "      <td>53</td>\n",
       "      <td>0</td>\n",
       "      <td>1</td>\n",
       "      <td>0</td>\n",
       "    </tr>\n",
       "    <tr>\n",
       "      <th>sittingdown</th>\n",
       "      <td>46</td>\n",
       "      <td>614</td>\n",
       "      <td>107</td>\n",
       "      <td>46</td>\n",
       "      <td>19</td>\n",
       "    </tr>\n",
       "    <tr>\n",
       "      <th>standing</th>\n",
       "      <td>114</td>\n",
       "      <td>0</td>\n",
       "      <td>2608</td>\n",
       "      <td>110</td>\n",
       "      <td>457</td>\n",
       "    </tr>\n",
       "    <tr>\n",
       "      <th>standingup</th>\n",
       "      <td>1</td>\n",
       "      <td>133</td>\n",
       "      <td>223</td>\n",
       "      <td>463</td>\n",
       "      <td>8</td>\n",
       "    </tr>\n",
       "    <tr>\n",
       "      <th>walking</th>\n",
       "      <td>0</td>\n",
       "      <td>0</td>\n",
       "      <td>929</td>\n",
       "      <td>0</td>\n",
       "      <td>2004</td>\n",
       "    </tr>\n",
       "  </tbody>\n",
       "</table>\n",
       "</div>"
      ],
      "text/plain": [
       "             sitting  sittingdown  standing  standingup  walking\n",
       "sitting         3508           53         0           1        0\n",
       "sittingdown       46          614       107          46       19\n",
       "standing         114            0      2608         110      457\n",
       "standingup         1          133       223         463        8\n",
       "walking            0            0       929           0     2004"
      ]
     },
     "execution_count": 96,
     "metadata": {
      "tags": []
     },
     "output_type": "execute_result"
    }
   ],
   "source": [
    "q4['conf_matr']"
   ]
  },
  {
   "cell_type": "markdown",
   "metadata": {},
   "source": [
    "F - мера"
   ]
  },
  {
   "cell_type": "code",
   "execution_count": null,
   "metadata": {
    "colab": {
     "base_uri": "https://localhost:8080/"
    },
    "executionInfo": {
     "elapsed": 607,
     "status": "ok",
     "timestamp": 1618835982906,
     "user": {
      "displayName": "Георгий Авхименко",
      "photoUrl": "https://lh3.googleusercontent.com/a-/AOh14Ggb8G0V01sdYAorRZZ8WdgvkNc4C9QI8Yyhue4D=s64",
      "userId": "05068323543740234483"
     },
     "user_tz": -180
    },
    "id": "_wU68iioIo18",
    "outputId": "e9353dcc-7403-47ea-af8d-71c12f218b2a"
   },
   "outputs": [
    {
     "data": {
      "text/plain": [
       "0.803652569031807"
      ]
     },
     "execution_count": 97,
     "metadata": {
      "tags": []
     },
     "output_type": "execute_result"
    }
   ],
   "source": [
    "q4['f1-score']   "
   ]
  },
  {
   "cell_type": "markdown",
   "metadata": {
    "id": "3PVWpJ38Jpuo"
   },
   "source": [
    "Выводы: можно строить модели с этими 12 и 4 признаками. Результат на тестовой выборке - вполне хороший. Это говорит о том что в этих пространствах признаков данные достаточно хорошо линейно разделимы."
   ]
  }
 ],
 "metadata": {
  "colab": {
   "authorship_tag": "ABX9TyNzipjqWpI3a9jdOP+iSxrz",
   "collapsed_sections": [],
   "name": "отбор признаков w8 ovl 25.ipynb",
   "provenance": []
  },
  "kernelspec": {
   "display_name": "Python 3",
   "language": "python",
   "name": "python3"
  },
  "language_info": {
   "codemirror_mode": {
    "name": "ipython",
    "version": 3
   },
   "file_extension": ".py",
   "mimetype": "text/x-python",
   "name": "python",
   "nbconvert_exporter": "python",
   "pygments_lexer": "ipython3",
   "version": "3.8.6rc1"
  }
 },
 "nbformat": 4,
 "nbformat_minor": 1
}
